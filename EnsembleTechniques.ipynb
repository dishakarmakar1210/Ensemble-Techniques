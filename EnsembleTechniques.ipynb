{
  "nbformat": 4,
  "nbformat_minor": 0,
  "metadata": {
    "colab": {
      "provenance": []
    },
    "kernelspec": {
      "name": "python3",
      "display_name": "Python 3"
    },
    "language_info": {
      "name": "python"
    }
  },
  "cells": [
    {
      "cell_type": "markdown",
      "source": [
        "\n",
        "1. **Can we use Bagging for regression problems?**\n",
        "\n",
        "-> Yes, Bagging can be used for regression by combining the predictions of multiple regressors, typically using the average of their outputs. A common example is the Bagging Regressor.\n",
        "\n",
        "2. **What is the difference between multiple model training and single model training?**\n",
        "->  Multiple model training (like ensemble methods) uses several models to improve performance and reduce variance or bias. Single model training relies on just one model, which may be more prone to overfitting or underfitting.\n",
        "\n",
        "3. **Explain the concept of feature randomness in Random Forest.**\n",
        "-> Feature randomness refers to selecting a random subset of features at each split in decision trees within a Random Forest. This increases diversity among the trees and reduces correlation, leading to better generalization.\n",
        "\n",
        "4. **What is OOB (Out-of-Bag) Score?**\n",
        "->   The OOB score is an internal validation score used in Bagging-based models like Random Forest, calculated using data not included in the bootstrap sample. It provides an unbiased estimate of model performance without needing a separate validation set.\n",
        "\n",
        "5. **How can you measure the importance of features in a Random Forest model?**\n",
        "-> Feature importance is measured by evaluating the decrease in impurity (like Gini or entropy) or using permutation importance, which assesses the effect of shuffling a feature on model accuracy.\n",
        "\n",
        "6. **Explain the working principle of a Bagging Classifier.**\n",
        "-> A Bagging Classifier builds multiple models on different bootstrap samples of the training data and aggregates their predictions (usually via majority vote for classification). This helps reduce variance and improve stability.\n",
        "\n",
        "7. **How do you evaluate a Bagging Classifier’s performance?**\n",
        "-> You can use standard classification metrics like accuracy, precision, recall, F1-score, or the OOB score. Cross-validation can also be used for a more robust performance estimate.\n",
        "\n",
        "8. **How does a Bagging Regressor work?**\n",
        "-> A Bagging Regressor trains several base regressors on random bootstrap samples of the dataset and combines their predictions by averaging. This reduces variance and leads to more stable predictions.\n",
        "\n",
        "9. **What is the main advantage of ensemble techniques?**\n",
        "-> Ensemble methods combine multiple models to improve prediction accuracy, robustness, and generalization. They help mitigate issues like overfitting and underfitting.\n",
        "\n",
        "10. **What is the main challenge of ensemble methods?**\n",
        "-> The main challenges include increased computational cost, complexity, and difficulty in interpretability. Training and maintaining multiple models can also require more resources.\n",
        "\n",
        "11. **Explain the key idea behind ensemble techniques.**\n",
        "-> The key idea is to combine predictions from multiple models to improve overall performance. Diverse models working together can correct each other’s errors and provide more accurate results.\n",
        "\n",
        "12. **What is a Random Forest Classifier?**\n",
        "-> A Random Forest Classifier is an ensemble of decision trees where each tree is trained on a random subset of data and features. The final prediction is made by aggregating the predictions of all the trees (majority vote for classification).\n",
        "\n",
        "13. **What are the main types of ensemble techniques?**\n",
        "-> The main types are Bagging (Bootstrap Aggregating), Boosting, and Stacking. Each technique combines models differently to improve performance.\n",
        "\n",
        "14. **What is ensemble learning in machine learning?**\n",
        "-> Ensemble learning involves using multiple models (often called base learners) to solve the same problem and combine their outputs. It aims to enhance model performance by reducing bias and variance.\n",
        "\n",
        "15. **When should we avoid using ensemble methods?**\n",
        "-> Avoid ensemble methods when the problem is simple or when interpretability is crucial. They may also be unnecessary for small datasets or where computational resources are limited.\n",
        "\n",
        "16. **How does Bagging help in reducing overfitting?**\n",
        "-> Bagging reduces overfitting by averaging predictions from many models trained on different data subsets, which decreases model variance. It prevents any single model from having too much influence.\n",
        "\n",
        "17. **Why is Random Forest better than a single Decision Tree?**\n",
        "-> A Random Forest reduces overfitting and improves accuracy by combining predictions from multiple trees trained on different data and features. It is more robust and generalizes better.\n",
        "\n",
        "18. **What is the role of bootstrap sampling in Bagging?**\n",
        "-> Bootstrap sampling creates different subsets of the data by sampling with replacement. Each model in the ensemble is trained on a different bootstrap sample, adding diversity.\n",
        "\n",
        "19. **What are some real-world applications of ensemble techniques?**\n",
        "-> Ensemble methods are widely used in fraud detection, medical diagnosis, stock price prediction, recommendation systems, and competitions like Kaggle due to their high accuracy and robustness.\n",
        "\n",
        "20. **What is the difference between Bagging and Boosting?**\n",
        "-> Bagging trains models independently in parallel and reduces variance, while Boosting trains models sequentially, where each new model corrects the errors of the previous ones, reducing bias.\n"
      ],
      "metadata": {
        "id": "HOWiJPJnWKp0"
      }
    },
    {
      "cell_type": "code",
      "execution_count": 2,
      "metadata": {
        "colab": {
          "base_uri": "https://localhost:8080/"
        },
        "id": "zI5lpkKxSqRp",
        "outputId": "4531e22f-beb2-4673-8bd9-8c6ff6762f15"
      },
      "outputs": [
        {
          "output_type": "stream",
          "name": "stdout",
          "text": [
            "Bagging Classifier Accuracy: 0.94\n"
          ]
        }
      ],
      "source": [
        "# Bagging Classifier using Decision Trees on a sample dataset\n",
        "from sklearn.datasets import make_classification\n",
        "from sklearn.model_selection import train_test_split\n",
        "from sklearn.ensemble import BaggingClassifier\n",
        "from sklearn.tree import DecisionTreeClassifier\n",
        "from sklearn.metrics import accuracy_score\n",
        "\n",
        "X, y = make_classification(n_samples=500, n_features=20, random_state=42)\n",
        "X_train, X_test, y_train, y_test = train_test_split(X, y, test_size=0.2, random_state=42)\n",
        "\n",
        "bag_clf = BaggingClassifier(estimator=DecisionTreeClassifier(), random_state=42)\n",
        "bag_clf.fit(X_train, y_train)\n",
        "print(\"Bagging Classifier Accuracy:\", accuracy_score(y_test, bag_clf.predict(X_test)))"
      ]
    },
    {
      "cell_type": "code",
      "source": [
        "#  Bagging Regressor with MSE\n",
        "from sklearn.datasets import load_diabetes\n",
        "from sklearn.ensemble import BaggingRegressor\n",
        "from sklearn.tree import DecisionTreeRegressor\n",
        "from sklearn.metrics import mean_squared_error\n",
        "\n",
        "diabetes = load_diabetes()\n",
        "X, y = diabetes.data, diabetes.target\n",
        "X_train, X_test, y_train, y_test = train_test_split(X, y, test_size=0.2, random_state=42)\n",
        "\n",
        "bag_reg = BaggingRegressor(estimator=DecisionTreeRegressor(), random_state=42)\n",
        "bag_reg.fit(X_train, y_train)\n",
        "y_pred = bag_reg.predict(X_test)\n",
        "print(\"Bagging Regressor MSE:\", mean_squared_error(y_test, y_pred))"
      ],
      "metadata": {
        "colab": {
          "base_uri": "https://localhost:8080/"
        },
        "id": "GhBPO8MbbLjv",
        "outputId": "b9f6e717-37c7-4489-f0db-8640b76f9762"
      },
      "execution_count": 4,
      "outputs": [
        {
          "output_type": "stream",
          "name": "stdout",
          "text": [
            "Bagging Regressor MSE: 3256.961797752809\n"
          ]
        }
      ]
    },
    {
      "cell_type": "code",
      "source": [
        "# Random Forest Classifier feature importance\n",
        "from sklearn.datasets import load_breast_cancer\n",
        "from sklearn.ensemble import RandomForestClassifier\n",
        "\n",
        "cancer = load_breast_cancer()\n",
        "X, y = cancer.data, cancer.target\n",
        "X_train, X_test, y_train, y_test = train_test_split(X, y, test_size=0.2, random_state=42)\n",
        "\n",
        "rf_clf = RandomForestClassifier(random_state=42)\n",
        "rf_clf.fit(X_train, y_train)\n",
        "print(\"Feature Importances:\", rf_clf.feature_importances_)\n"
      ],
      "metadata": {
        "colab": {
          "base_uri": "https://localhost:8080/"
        },
        "id": "MD13PqEQbjiL",
        "outputId": "7496d734-ce6d-4823-91a9-4870f290866c"
      },
      "execution_count": 13,
      "outputs": [
        {
          "output_type": "stream",
          "name": "stdout",
          "text": [
            "Feature Importances: [0.04870337 0.01359088 0.05326975 0.04755501 0.00728533 0.01394433\n",
            " 0.06800084 0.10620999 0.00377029 0.00388577 0.02013892 0.00472399\n",
            " 0.01130301 0.02240696 0.00427091 0.00525322 0.00938583 0.00351326\n",
            " 0.00401842 0.00532146 0.07798688 0.02174901 0.06711483 0.15389236\n",
            " 0.01064421 0.02026604 0.0318016  0.14466327 0.01012018 0.00521012]\n"
          ]
        }
      ]
    },
    {
      "cell_type": "code",
      "source": [
        "# Random Forest Regressor vs Decision Tree\n",
        "from sklearn.ensemble import RandomForestRegressor\n",
        "rf_reg = RandomForestRegressor(random_state=42)\n",
        "dt_reg = DecisionTreeRegressor(random_state=42)\n",
        "\n",
        "rf_reg.fit(X_train, y_train)\n",
        "dt_reg.fit(X_train, y_train)\n",
        "\n",
        "rf_mse = mean_squared_error(y_test, rf_reg.predict(X_test))\n",
        "dt_mse = mean_squared_error(y_test, dt_reg.predict(X_test))\n",
        "print(\"RF MSE:\", rf_mse, \"| DT MSE:\", dt_mse)"
      ],
      "metadata": {
        "colab": {
          "base_uri": "https://localhost:8080/"
        },
        "id": "EQ3YFTI7bofT",
        "outputId": "e9928271-8e04-4cd2-a6f9-2aa1f61732b7"
      },
      "execution_count": 14,
      "outputs": [
        {
          "output_type": "stream",
          "name": "stdout",
          "text": [
            "RF MSE: 0.03276140350877193 | DT MSE: 0.05263157894736842\n"
          ]
        }
      ]
    },
    {
      "cell_type": "code",
      "source": [
        "#  OOB Score for Random Forest\n",
        "rf_oob = RandomForestClassifier(oob_score=True, bootstrap=True, random_state=42)\n",
        "rf_oob.fit(X_train, y_train)\n",
        "print(\"OOB Score:\", rf_oob.oob_score_)"
      ],
      "metadata": {
        "colab": {
          "base_uri": "https://localhost:8080/"
        },
        "id": "dRIuNmokb2c9",
        "outputId": "6780f6f7-ae7b-48f3-bb3f-bdec68166664"
      },
      "execution_count": 15,
      "outputs": [
        {
          "output_type": "stream",
          "name": "stdout",
          "text": [
            "OOB Score: 0.9560439560439561\n"
          ]
        }
      ]
    },
    {
      "cell_type": "code",
      "source": [
        "#  Bagging Classifier using SVM\n",
        "from sklearn.svm import SVC\n",
        "svc = SVC(probability=True, random_state=42)\n",
        "bag_svm = BaggingClassifier(estimator=svc, random_state=42)\n",
        "bag_svm.fit(X_train, y_train)\n",
        "print(\"Bagging SVM Accuracy:\", accuracy_score(y_test, bag_svm.predict(X_test)))\n"
      ],
      "metadata": {
        "colab": {
          "base_uri": "https://localhost:8080/"
        },
        "id": "0QNhwOBbcEV3",
        "outputId": "1aa11371-8032-455f-d84d-3e153a3e8cd8"
      },
      "execution_count": 16,
      "outputs": [
        {
          "output_type": "stream",
          "name": "stdout",
          "text": [
            "Bagging SVM Accuracy: 0.9473684210526315\n"
          ]
        }
      ]
    },
    {
      "cell_type": "code",
      "source": [
        "# Random Forest with different number of trees\n",
        "for n in [10, 50, 100, 200]:\n",
        "    rf = RandomForestClassifier(n_estimators=n, random_state=42)\n",
        "    rf.fit(X_train, y_train)\n",
        "    acc = accuracy_score(y_test, rf.predict(X_test))\n",
        "    print(f\"RF Accuracy with {n} trees:\", acc)"
      ],
      "metadata": {
        "colab": {
          "base_uri": "https://localhost:8080/"
        },
        "id": "n9J-QV4GcJtd",
        "outputId": "cf96a633-b450-4958-e9f7-d39a77a650fb"
      },
      "execution_count": 18,
      "outputs": [
        {
          "output_type": "stream",
          "name": "stdout",
          "text": [
            "RF Accuracy with 10 trees: 0.956140350877193\n",
            "RF Accuracy with 50 trees: 0.9649122807017544\n",
            "RF Accuracy with 100 trees: 0.9649122807017544\n",
            "RF Accuracy with 200 trees: 0.9649122807017544\n"
          ]
        }
      ]
    },
    {
      "cell_type": "code",
      "source": [
        "# RF Regressor Feature Importance\n",
        "rf_reg2 = RandomForestRegressor(random_state=42)\n",
        "rf_reg2.fit(X_train, y_train)\n",
        "print(\"RF Regressor Feature Importances:\", rf_reg2.feature_importances_)"
      ],
      "metadata": {
        "colab": {
          "base_uri": "https://localhost:8080/"
        },
        "id": "n23NOU4ecfMA",
        "outputId": "02b31c43-8e13-4e18-a90e-94587d96e68e"
      },
      "execution_count": 21,
      "outputs": [
        {
          "output_type": "stream",
          "name": "stdout",
          "text": [
            "RF Regressor Feature Importances: [0.00140464 0.02106669 0.00253679 0.00514265 0.00665222 0.00077436\n",
            " 0.00465622 0.20278063 0.00266848 0.00214951 0.00369567 0.00376398\n",
            " 0.00391315 0.01023858 0.00347514 0.00170722 0.00658655 0.00326183\n",
            " 0.00354071 0.00527785 0.10347025 0.0254747  0.15894716 0.11817087\n",
            " 0.00845557 0.00183561 0.01177066 0.26993618 0.00421464 0.0024315 ]\n"
          ]
        }
      ]
    },
    {
      "cell_type": "code",
      "source": [
        "# Compare Bagging and RF Classifier\n",
        "bag = BaggingClassifier(random_state=42)\n",
        "bag.fit(X_train, y_train)\n",
        "rf = RandomForestClassifier(random_state=42)\n",
        "rf.fit(X_train, y_train)\n",
        "\n",
        "print(\"Bagging Accuracy:\", accuracy_score(y_test, bag.predict(X_test)))\n",
        "print(\"RF Accuracy:\", accuracy_score(y_test, rf.predict(X_test)))"
      ],
      "metadata": {
        "colab": {
          "base_uri": "https://localhost:8080/"
        },
        "id": "rFZ1Byw0clII",
        "outputId": "9098d8e2-b212-44ca-f473-bdcb66a8e361"
      },
      "execution_count": 23,
      "outputs": [
        {
          "output_type": "stream",
          "name": "stdout",
          "text": [
            "Bagging Accuracy: 0.956140350877193\n",
            "RF Accuracy: 0.9649122807017544\n"
          ]
        }
      ]
    },
    {
      "cell_type": "code",
      "source": [
        "# Random Forest with GridSearchCV\n",
        "from sklearn.model_selection import GridSearchCV\n",
        "param_grid = {\n",
        "    'n_estimators': [50, 100],\n",
        "    'max_depth': [None, 10, 20]\n",
        "}\n",
        "grid_rf = GridSearchCV(RandomForestClassifier(random_state=42), param_grid, cv=3)\n",
        "grid_rf.fit(X_train, y_train)\n",
        "print(\"Best RF Params:\", grid_rf.best_params_)"
      ],
      "metadata": {
        "colab": {
          "base_uri": "https://localhost:8080/"
        },
        "id": "mn5B_aDwcsKy",
        "outputId": "3a904b10-f950-412e-d01b-8162f2a3efad"
      },
      "execution_count": 24,
      "outputs": [
        {
          "output_type": "stream",
          "name": "stdout",
          "text": [
            "Best RF Params: {'max_depth': None, 'n_estimators': 50}\n"
          ]
        }
      ]
    },
    {
      "cell_type": "code",
      "source": [
        "# Bagging Regressor with different base estimators\n",
        "for n in [5, 10, 20]:\n",
        "    bag_reg = BaggingRegressor(n_estimators=n, random_state=42)\n",
        "    bag_reg.fit(X_train, y_train)\n",
        "    print(f\" MSE with {n} estimators:\", mean_squared_error(y_test, bag_reg.predict(X_test)))"
      ],
      "metadata": {
        "colab": {
          "base_uri": "https://localhost:8080/"
        },
        "id": "BrBgPjjTngk_",
        "outputId": "ee322813-ab22-4334-9441-628f65ad7967"
      },
      "execution_count": 25,
      "outputs": [
        {
          "output_type": "stream",
          "name": "stdout",
          "text": [
            " MSE with 5 estimators: 0.03508771929824562\n",
            " MSE with 10 estimators: 0.037456140350877194\n",
            " MSE with 20 estimators: 0.03776315789473684\n"
          ]
        }
      ]
    },
    {
      "cell_type": "code",
      "source": [
        "# RF and misclassified samples\n",
        "rf = RandomForestClassifier(random_state=42)\n",
        "rf.fit(X_train, y_train)\n",
        "y_pred = rf.predict(X_test)\n",
        "misclassified = X_test[y_test != y_pred]\n",
        "print(\"Misclassified sample count:\", len(misclassified))"
      ],
      "metadata": {
        "colab": {
          "base_uri": "https://localhost:8080/"
        },
        "id": "DSg6U-1-nsq4",
        "outputId": "74af6a23-ac76-49f9-8d18-0a1cf9e63000"
      },
      "execution_count": 26,
      "outputs": [
        {
          "output_type": "stream",
          "name": "stdout",
          "text": [
            "Misclassified sample count: 4\n"
          ]
        }
      ]
    },
    {
      "cell_type": "code",
      "source": [
        "# Bagging vs Decision Tree\n",
        "bag = BaggingClassifier(random_state=42)\n",
        "bag.fit(X_train, y_train)\n",
        "dt = DecisionTreeClassifier(random_state=42)\n",
        "dt.fit(X_train, y_train)\n",
        "print(\"Bagging Accuracy:\", accuracy_score(y_test, bag.predict(X_test)))\n",
        "print(\"Decision Tree Accuracy:\", accuracy_score(y_test, dt.predict(X_test)))"
      ],
      "metadata": {
        "colab": {
          "base_uri": "https://localhost:8080/"
        },
        "id": "7-WV3j0MnyOH",
        "outputId": "141228a9-e114-48f1-8c97-a3a83421fa00"
      },
      "execution_count": 27,
      "outputs": [
        {
          "output_type": "stream",
          "name": "stdout",
          "text": [
            "Bagging Accuracy: 0.956140350877193\n",
            "Decision Tree Accuracy: 0.9473684210526315\n"
          ]
        }
      ]
    },
    {
      "cell_type": "code",
      "source": [
        "# Confusion Matrix\n",
        "from sklearn.metrics import confusion_matrix, ConfusionMatrixDisplay\n",
        "import matplotlib.pyplot as plt\n",
        "cm = confusion_matrix(y_test, rf.predict(X_test))\n",
        "ConfusionMatrixDisplay(cm).plot()\n",
        "plt.title(\"Confusion Matrix\")\n",
        "plt.show()"
      ],
      "metadata": {
        "colab": {
          "base_uri": "https://localhost:8080/",
          "height": 472
        },
        "id": "f1KLMPwEoDqZ",
        "outputId": "5dc14082-2eb9-4ecf-e962-865a58008e57"
      },
      "execution_count": 28,
      "outputs": [
        {
          "output_type": "display_data",
          "data": {
            "text/plain": [
              "<Figure size 640x480 with 2 Axes>"
            ],
            "image/png": "[encoded data removed]"
          },
          "metadata": {}
        }
      ]
    },
    {
      "cell_type": "code",
      "source": [
        "# Top 5 feature importances\n",
        "import numpy as np\n",
        "importances = rf.feature_importances_\n",
        "indices = np.argsort(importances)[::-1][:5]\n",
        "print(\"Top 5 Features:\", indices)"
      ],
      "metadata": {
        "colab": {
          "base_uri": "https://localhost:8080/"
        },
        "id": "U3nb-CUfoYYl",
        "outputId": "82c5ca41-616d-43f8-e1e5-7be3d542f4cd"
      },
      "execution_count": 32,
      "outputs": [
        {
          "output_type": "stream",
          "name": "stdout",
          "text": [
            "Top 5 Features: [23 27  7 20  6]\n"
          ]
        }
      ]
    },
    {
      "cell_type": "code",
      "source": [
        "# Bagging Precision, Recall, F1\n",
        "from sklearn.metrics import precision_score, recall_score, f1_score\n",
        "bag = BaggingClassifier(random_state=42)\n",
        "bag.fit(X_train, y_train)\n",
        "y_pred = bag.predict(X_test)\n",
        "print(\"Precision:\", precision_score(y_test, y_pred))\n",
        "print(\"Recall:\", recall_score(y_test, y_pred))\n",
        "print(\"F1-Score:\", f1_score(y_test, y_pred))"
      ],
      "metadata": {
        "colab": {
          "base_uri": "https://localhost:8080/"
        },
        "id": "ATp_6WSHo5om",
        "outputId": "6c3b2466-e124-4b3f-d8a3-99010ca40d2c"
      },
      "execution_count": 33,
      "outputs": [
        {
          "output_type": "stream",
          "name": "stdout",
          "text": [
            "Precision: 0.9583333333333334\n",
            "Recall: 0.971830985915493\n",
            "F1-Score: 0.965034965034965\n"
          ]
        }
      ]
    },
    {
      "cell_type": "code",
      "source": [
        "# Program 39: Effect of max_depth\n",
        "for d in [3, 5, 10, None]:\n",
        "    rf = RandomForestClassifier(max_depth=d, random_state=42)\n",
        "    rf.fit(X_train, y_train)\n",
        "    print(f\"Accuracy with max_depth={d}:\", accuracy_score(y_test, rf.predict(X_test)))"
      ],
      "metadata": {
        "colab": {
          "base_uri": "https://localhost:8080/"
        },
        "id": "1xzrrAQWpWmI",
        "outputId": "a139b419-755c-4fc4-9900-e5a65690a03f"
      },
      "execution_count": 34,
      "outputs": [
        {
          "output_type": "stream",
          "name": "stdout",
          "text": [
            "Accuracy with max_depth=3: 0.9649122807017544\n",
            "Accuracy with max_depth=5: 0.9649122807017544\n",
            "Accuracy with max_depth=10: 0.9649122807017544\n",
            "Accuracy with max_depth=None: 0.9649122807017544\n"
          ]
        }
      ]
    },
    {
      "cell_type": "code",
      "source": [
        "# Bagging Regressor with different base estimators\n",
        "from sklearn.neighbors import KNeighborsRegressor\n",
        "for base in [DecisionTreeRegressor(), KNeighborsRegressor()]:\n",
        "    name = type(base).__name__\n",
        "    bag = BaggingRegressor(estimator=base, random_state=42)\n",
        "    bag.fit(X_train, y_train)\n",
        "    print(f\"{name} MSE:\", mean_squared_error(y_test, bag.predict(X_test)))"
      ],
      "metadata": {
        "colab": {
          "base_uri": "https://localhost:8080/"
        },
        "id": "ji2P7NNYpceq",
        "outputId": "197fd502-aea0-4139-d2ad-de734e9f32d7"
      },
      "execution_count": 36,
      "outputs": [
        {
          "output_type": "stream",
          "name": "stdout",
          "text": [
            "DecisionTreeRegressor MSE: 0.037456140350877194\n",
            "KNeighborsRegressor MSE: 0.029428070175438595\n"
          ]
        }
      ]
    },
    {
      "cell_type": "code",
      "source": [
        "# ROC-AUC for RF\n",
        "from sklearn.metrics import roc_auc_score\n",
        "rf = RandomForestClassifier(random_state=42)\n",
        "rf.fit(X_train, y_train)\n",
        "print(\"ROC-AUC Score:\", roc_auc_score(y_test, rf.predict_proba(X_test)[:, 1]))"
      ],
      "metadata": {
        "colab": {
          "base_uri": "https://localhost:8080/"
        },
        "id": "YTM7h9coqOhI",
        "outputId": "ac5eeb20-19fa-4bce-94db-3e741f447179"
      },
      "execution_count": 37,
      "outputs": [
        {
          "output_type": "stream",
          "name": "stdout",
          "text": [
            "ROC-AUC Score: 0.9952505732066819\n"
          ]
        }
      ]
    },
    {
      "cell_type": "code",
      "source": [
        "# Cross-Validation on Bagging\n",
        "from sklearn.model_selection import cross_val_score\n",
        "bag = BaggingClassifier(random_state=42)\n",
        "scores = cross_val_score(bag, X, y, cv=5)\n",
        "print(\"Cross-Validation Scores:\", scores)"
      ],
      "metadata": {
        "colab": {
          "base_uri": "https://localhost:8080/"
        },
        "id": "fwsYEB5fqsfJ",
        "outputId": "df5c93d1-d396-4724-9c66-de8415ab6cda"
      },
      "execution_count": 38,
      "outputs": [
        {
          "output_type": "stream",
          "name": "stdout",
          "text": [
            "Cross-Validation Scores: [0.92982456 0.93859649 0.97368421 0.93859649 0.97345133]\n"
          ]
        }
      ]
    },
    {
      "cell_type": "code",
      "source": [
        "# Precision-Recall Curve\n",
        "from sklearn.metrics import precision_recall_curve\n",
        "import matplotlib.pyplot as plt\n",
        "y_probs = rf.predict_proba(X_test)[:, 1]\n",
        "prec, rec, _ = precision_recall_curve(y_test, y_probs)\n",
        "plt.plot(rec, prec)\n",
        "plt.xlabel(\"Recall\")\n",
        "plt.ylabel(\"Precision\")\n",
        "plt.title(\" Precision-Recall Curve\")\n",
        "plt.grid(True)\n",
        "plt.show()"
      ],
      "metadata": {
        "colab": {
          "base_uri": "https://localhost:8080/",
          "height": 472
        },
        "id": "F3gcZaXKqxcv",
        "outputId": "7592f6ed-cb07-48bd-b22c-942c26172b88"
      },
      "execution_count": 39,
      "outputs": [
        {
          "output_type": "display_data",
          "data": {
            "text/plain": [
              "<Figure size 640x480 with 1 Axes>"
            ],
            "image/png": "[encoded data removed]"
          },
          "metadata": {}
        }
      ]
    },
    {
      "cell_type": "code",
      "source": [
        "# Bagging Regressor with varied bootstrap samples\n",
        "for bs in [0.3, 0.5, 1.0]:\n",
        "    bag = BaggingRegressor(max_samples=bs, random_state=42)\n",
        "    bag.fit(X_train, y_train)\n",
        "    print(f\"Bootstrap Sample {bs} MSE:\", mean_squared_error(y_test, bag.predict(X_test)))\n"
      ],
      "metadata": {
        "colab": {
          "base_uri": "https://localhost:8080/"
        },
        "id": "rv0Z330qq2bE",
        "outputId": "38839012-b147-4523-ac93-83bc5c0a0071"
      },
      "execution_count": 41,
      "outputs": [
        {
          "output_type": "stream",
          "name": "stdout",
          "text": [
            "Bootstrap Sample 0.3 MSE: 0.03210526315789474\n",
            "Bootstrap Sample 0.5 MSE: 0.03798245614035089\n",
            "Bootstrap Sample 1.0 MSE: 0.037456140350877194\n"
          ]
        }
      ]
    }
  ]
}